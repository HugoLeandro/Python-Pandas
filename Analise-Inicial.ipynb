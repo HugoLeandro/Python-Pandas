{
 "cells": [
  {
   "cell_type": "markdown",
   "id": "993ee9ad",
   "metadata": {},
   "source": [
    "### Puxar base de dados"
   ]
  },
  {
   "cell_type": "code",
   "execution_count": null,
   "id": "90e92890",
   "metadata": {},
   "outputs": [],
   "source": [
    "import pandas as pd \n",
    "tabela = pd.read_csv(\"exportacoes_franca.csv\")\n",
    "tabela = tabela.loc[tabela[\"Economic Block\"] == \"Europe\", :]\n",
    "display(tabela)"
   ]
  },
  {
   "cell_type": "markdown",
   "id": "4ad76a65",
   "metadata": {},
   "source": [
    "### Informações Gerais"
   ]
  },
  {
   "cell_type": "code",
   "execution_count": null,
   "id": "cce34f4d",
   "metadata": {},
   "outputs": [],
   "source": [
    "print(tabela.info())\n",
    "# DROP JOGA A COLUNA FORA\n",
    "# SORT ORDENA AS LINHAS\n",
    "# LOC FILTRA AS LINHAS"
   ]
  },
  {
   "cell_type": "markdown",
   "id": "2daa0fa9",
   "metadata": {},
   "source": [
    "### Como foi a evolução das exportações para a frança ao longo dos anos?"
   ]
  },
  {
   "cell_type": "code",
   "execution_count": null,
   "id": "f02fb7d6",
   "metadata": {},
   "outputs": [],
   "source": [
    "def formatar(valor):\n",
    "    return \"US$ {:,.2f}\".format(valor)\n",
    "tabela_expo = tabela.groupby(\"Year\").sum()\n",
    "tabela_expo[\"US$ FOB\"] = tabela_expo[\"US$ FOB\"].map(formatar)\n",
    "display(tabela_expo[[\"US$ FOB\"]])"
   ]
  },
  {
   "cell_type": "markdown",
   "id": "717e331d",
   "metadata": {},
   "source": [
    "### Quais os produtos mais exportados ao longo de todo o período?"
   ]
  },
  {
   "cell_type": "code",
   "execution_count": null,
   "id": "ba74c817",
   "metadata": {},
   "outputs": [],
   "source": [
    "tabela_expo = tabela.groupby(\"SH4 Description\").sum()\n",
    "tabela_expo = tabela_expo[[\"US$ FOB\"]]\n",
    "tabela_expo = tabela_expo.sort_values(\"US$ FOB\", ascending=False)\n",
    "tabela_expo[\"US$ FOB\"] = tabela_expo[\"US$ FOB\"].map(formatar)\n",
    "display(tabela_expo)"
   ]
  },
  {
   "cell_type": "markdown",
   "id": "6ce25d4d",
   "metadata": {},
   "source": [
    "### Em 2020 qual cidade mais exportou para a França?"
   ]
  },
  {
   "cell_type": "code",
   "execution_count": null,
   "id": "074fb7b8",
   "metadata": {},
   "outputs": [],
   "source": [
    "tabela_expo_2020 = tabela.loc[tabela[\"Year\"]==2020, :]\n",
    "tabela_2020 = tabela_expo_2020.groupby(\"City\").sum()\n",
    "tabela_2020 = tabela_2020[[\"US$ FOB\"]]\n",
    "# sort.values = ordenar os valores\n",
    "tabela_2020 = tabela_2020.sort_values(\"US$ FOB\", ascending=False)\n",
    "# ascending = crescente ou decrecente\n",
    "tabela_2020[\"US$ FOB\"] = tabela_2020[\"US$ FOB\"].map(formatar)\n",
    "display(tabela_2020)"
   ]
  },
  {
   "cell_type": "markdown",
   "id": "84fbbcf3",
   "metadata": {},
   "source": [
    "### O que as 2 maiores cidades exportaram tanto?"
   ]
  },
  {
   "cell_type": "code",
   "execution_count": null,
   "id": "12173e06",
   "metadata": {},
   "outputs": [],
   "source": [
    "cidade = tabela_2020.index[0]\n",
    "tabela_duq = tabela_expo_2020.loc[tabela_expo_2020[\"City\"]==cidade, :]\n",
    "tabela_duq = tabela_duq.groupby(\"SH4 Description\").sum()\n",
    "tabela_duq = tabela_duq[[\"US$ FOB\"]]\n",
    "tabela_duq = tabela_duq.sort_values(\"US$ FOB\", ascending=False)\n",
    "tabela_duq[\"US$ FOB\"] = tabela_duq[\"US$ FOB\"].map(formatar)\n",
    "# quando é so uma coluna, apply a map funciona igual\n",
    "display(tabela_duq)"
   ]
  }
 ],
 "metadata": {
  "kernelspec": {
   "display_name": "Python 3 (ipykernel)",
   "language": "python",
   "name": "python3"
  },
  "language_info": {
   "codemirror_mode": {
    "name": "ipython",
    "version": 3
   },
   "file_extension": ".py",
   "mimetype": "text/x-python",
   "name": "python",
   "nbconvert_exporter": "python",
   "pygments_lexer": "ipython3",
   "version": "3.9.13"
  }
 },
 "nbformat": 4,
 "nbformat_minor": 5
}
